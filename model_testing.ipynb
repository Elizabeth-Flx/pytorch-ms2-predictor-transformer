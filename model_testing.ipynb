{
 "cells": [
  {
   "cell_type": "code",
   "execution_count": 23,
   "metadata": {},
   "outputs": [],
   "source": [
    "%load_ext autoreload\n",
    "%autoreload 2"
   ]
  },
  {
   "cell_type": "code",
   "execution_count": 8,
   "metadata": {},
   "outputs": [],
   "source": [
    "import pandas as pd\n",
    "\n"
   ]
  },
  {
   "cell_type": "code",
   "execution_count": 9,
   "metadata": {},
   "outputs": [],
   "source": [
    "\n",
    "path = \"/cmnfs/data/proteomics/Prosit_PTMs/Transformer_Train/no_aug_test.parquet\"\n",
    "path = \"/cmnfs/proj/prosit_astral/datasets/proteome_tools_dlomix_format_test.parquet\"\n",
    "\n",
    "tmp = pd.read_parquet(path, engine='pyarrow')"
   ]
  },
  {
   "cell_type": "code",
   "execution_count": 16,
   "metadata": {},
   "outputs": [
    {
     "data": {
      "text/plain": [
       "'LTEDLEYHHLLDK'"
      ]
     },
     "execution_count": 16,
     "metadata": {},
     "output_type": "execute_result"
    }
   ],
   "source": [
    "tmp.iloc[0][\"modified_sequence\"]"
   ]
  },
  {
   "cell_type": "code",
   "execution_count": 29,
   "metadata": {},
   "outputs": [],
   "source": [
    "import numpy as np"
   ]
  },
  {
   "cell_type": "code",
   "execution_count": 36,
   "metadata": {},
   "outputs": [
    {
     "data": {
      "text/plain": [
       "(30, 22)"
      ]
     },
     "execution_count": 36,
     "metadata": {},
     "output_type": "execute_result"
    }
   ],
   "source": [
    "test_seq = tmp.iloc[0][\"modified_sequence\"]\n",
    "test_seq = test_seq + \"-\"*(30-len(test_seq))\n",
    "test_seq\n",
    "\n",
    "indexes = [CUSTOM_ALPHABET[aa] for aa in test_seq]\n",
    "indexes\n",
    "\n",
    "test_seq_enc = np.eye(len(CUSTOM_ALPHABET))[indexes]\n",
    "test_seq_enc.shape"
   ]
  },
  {
   "cell_type": "code",
   "execution_count": 45,
   "metadata": {},
   "outputs": [],
   "source": [
    "from model.model import TransMS2Predictor \n",
    "from model.model import CUSTOM_ALPHABET\n",
    "import numpy as np\n",
    "import torch"
   ]
  },
  {
   "cell_type": "code",
   "execution_count": 46,
   "metadata": {},
   "outputs": [
    {
     "name": "stdout",
     "output_type": "stream",
     "text": [
      "torch.Size([1, 30, 22])\n",
      "torch.Size([1, 30, 256])\n"
     ]
    }
   ],
   "source": [
    "trans_pred = TransMS2Predictor()\n",
    "\n",
    "\n",
    "x = torch.from_numpy(test_seq_enc[None, :], ).float()\n",
    "\n",
    "trans_pred(x)\n"
   ]
  }
 ],
 "metadata": {
  "kernelspec": {
   "display_name": "pytorch_ms2",
   "language": "python",
   "name": "python3"
  },
  "language_info": {
   "codemirror_mode": {
    "name": "ipython",
    "version": 3
   },
   "file_extension": ".py",
   "mimetype": "text/x-python",
   "name": "python",
   "nbconvert_exporter": "python",
   "pygments_lexer": "ipython3",
   "version": "3.12.8"
  }
 },
 "nbformat": 4,
 "nbformat_minor": 2
}
