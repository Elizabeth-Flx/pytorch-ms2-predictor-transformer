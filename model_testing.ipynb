{
 "cells": [
  {
   "cell_type": "code",
   "execution_count": 13,
   "metadata": {},
   "outputs": [],
   "source": [
    "%load_ext autoreload\n",
    "%autoreload 2"
   ]
  },
  {
   "cell_type": "code",
   "execution_count": 1,
   "metadata": {},
   "outputs": [],
   "source": [
    "import pandas as pd\n",
    "\n"
   ]
  },
  {
   "cell_type": "code",
   "execution_count": 2,
   "metadata": {},
   "outputs": [],
   "source": [
    "\n",
    "path = \"/cmnfs/data/proteomics/Prosit_PTMs/Transformer_Train/no_aug_test.parquet\"\n",
    "path = \"/cmnfs/proj/prosit_astral/datasets/proteome_tools_dlomix_format_test.parquet\"\n",
    "\n",
    "tmp = pd.read_parquet(path, engine='pyarrow')"
   ]
  },
  {
   "cell_type": "code",
   "execution_count": 3,
   "metadata": {},
   "outputs": [
    {
     "data": {
      "text/plain": [
       "'LTEDLEYHHLLDK'"
      ]
     },
     "execution_count": 3,
     "metadata": {},
     "output_type": "execute_result"
    }
   ],
   "source": [
    "tmp.iloc[0][\"modified_sequence\"]"
   ]
  },
  {
   "cell_type": "code",
   "execution_count": 4,
   "metadata": {},
   "outputs": [],
   "source": [
    "import numpy as np"
   ]
  },
  {
   "cell_type": "code",
   "execution_count": 25,
   "metadata": {},
   "outputs": [],
   "source": [
    "from model.model import TransMS2Predictor \n",
    "from model.model import CUSTOM_ALPHABET\n",
    "import numpy as np\n",
    "import torch"
   ]
  },
  {
   "cell_type": "code",
   "execution_count": 18,
   "metadata": {},
   "outputs": [
    {
     "data": {
      "text/plain": [
       "(30, 22)"
      ]
     },
     "execution_count": 18,
     "metadata": {},
     "output_type": "execute_result"
    }
   ],
   "source": [
    "test_seq = tmp.iloc[0][\"modified_sequence\"]\n",
    "test_seq = test_seq + \"-\"*(30-len(test_seq))\n",
    "test_seq\n",
    "\n",
    "indexes = [CUSTOM_ALPHABET[aa] for aa in test_seq]\n",
    "indexes\n",
    "\n",
    "test_seq_enc = np.eye(len(CUSTOM_ALPHABET))[indexes]\n",
    "test_seq_enc.shape"
   ]
  },
  {
   "cell_type": "code",
   "execution_count": 26,
   "metadata": {},
   "outputs": [
    {
     "name": "stdout",
     "output_type": "stream",
     "text": [
      "torch.Size([1, 30, 22])\n",
      "torch.Size([1, 30, 256])\n",
      "torch.Size([1, 30, 256])\n",
      "torch.Size([1, 30, 256])\n",
      "torch.Size([1, 30, 512])\n",
      "torch.Size([1, 30, 174])\n",
      "torch.Size([1, 30, 174])\n",
      "torch.Size([1, 1, 174])\n"
     ]
    },
    {
     "data": {
      "text/plain": [
       "tensor([[[0.4164, 0.4195, 0.3453, 0.6186, 0.4940, 0.5479, 0.5945, 0.5632,\n",
       "          0.5478, 0.6179, 0.5871, 0.3447, 0.5601, 0.5602, 0.3970, 0.4948,\n",
       "          0.5244, 0.5000, 0.6543, 0.4686, 0.4419, 0.7082, 0.4450, 0.3689,\n",
       "          0.5110, 0.3481, 0.3860, 0.2850, 0.4761, 0.6317, 0.5901, 0.5569,\n",
       "          0.5080, 0.3894, 0.4668, 0.6677, 0.5802, 0.3940, 0.4732, 0.4625,\n",
       "          0.7260, 0.3629, 0.3961, 0.3929, 0.3234, 0.3512, 0.5767, 0.2410,\n",
       "          0.6341, 0.5122, 0.6036, 0.4482, 0.5437, 0.4650, 0.4156, 0.3526,\n",
       "          0.5180, 0.3054, 0.4676, 0.5950, 0.5533, 0.5215, 0.5857, 0.5892,\n",
       "          0.4488, 0.4819, 0.5015, 0.2496, 0.6818, 0.6043, 0.6805, 0.4080,\n",
       "          0.5893, 0.4529, 0.2886, 0.5489, 0.5284, 0.5505, 0.5758, 0.3105,\n",
       "          0.3500, 0.6533, 0.4783, 0.4811, 0.4892, 0.4765, 0.6548, 0.4517,\n",
       "          0.4597, 0.4429, 0.4980, 0.6256, 0.4134, 0.5743, 0.6710, 0.5343,\n",
       "          0.4723, 0.5078, 0.5632, 0.4544, 0.5760, 0.3951, 0.5262, 0.3519,\n",
       "          0.6361, 0.3918, 0.3059, 0.5595, 0.5052, 0.6300, 0.5528, 0.5935,\n",
       "          0.6783, 0.3442, 0.4430, 0.4317, 0.6208, 0.3605, 0.4071, 0.3683,\n",
       "          0.6002, 0.5439, 0.5854, 0.6355, 0.6320, 0.6160, 0.4961, 0.4244,\n",
       "          0.6144, 0.4908, 0.6000, 0.4522, 0.4872, 0.4500, 0.6241, 0.2199,\n",
       "          0.4570, 0.5380, 0.6187, 0.5067, 0.5229, 0.3266, 0.4572, 0.4745,\n",
       "          0.4892, 0.4344, 0.4000, 0.4230, 0.4820, 0.6847, 0.5273, 0.5928,\n",
       "          0.5244, 0.4803, 0.4772, 0.2552, 0.5615, 0.3855, 0.3143, 0.7647,\n",
       "          0.5513, 0.3816, 0.5048, 0.3599, 0.6235, 0.5154, 0.4014, 0.6900,\n",
       "          0.7501, 0.4119, 0.4290, 0.6075, 0.5073, 0.5620]]],\n",
       "       grad_fn=<MeanBackward1>)"
      ]
     },
     "execution_count": 26,
     "metadata": {},
     "output_type": "execute_result"
    }
   ],
   "source": [
    "trans_pred = TransMS2Predictor()\n",
    "\n",
    "\n",
    "x = torch.from_numpy(test_seq_enc[None, :], ).float()\n",
    "\n",
    "trans_pred(x)\n"
   ]
  }
 ],
 "metadata": {
  "kernelspec": {
   "display_name": "pytorch_test",
   "language": "python",
   "name": "pytorch_test"
  },
  "language_info": {
   "codemirror_mode": {
    "name": "ipython",
    "version": 3
   },
   "file_extension": ".py",
   "mimetype": "text/x-python",
   "name": "python",
   "nbconvert_exporter": "python",
   "pygments_lexer": "ipython3",
   "version": "3.12.8"
  }
 },
 "nbformat": 4,
 "nbformat_minor": 2
}
